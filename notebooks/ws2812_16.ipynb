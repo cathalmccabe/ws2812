{
 "cells": [
  {
   "cell_type": "markdown",
   "metadata": {},
   "source": [
    "# WS2812 Overlay example\n",
    "\n",
    "## Background\n",
    "The overlay contains 64 hard WS2812 controllers (implemented in Zynq PL) connected to pins 0-63 on the PYNQ-Z1. See Appendix for pin mappings.\n",
    "\n",
    "Each WS2812 can control an LED string up to a maximum of 2048 LEDs.\n",
    "\n",
    "Each controller contains a dual-port BRAM at the address range 0 - 0x1fff. One port of the BRAM is connected to the Zynq PS, and is accessible from Python. The other BRAM port is connected to the WS2812 controller.  \n",
    "\n",
    "<img src=\"images/ws2812_block_diagram.jpg\">\n",
    "\n",
    "The number of LEDs should be set by writing to a register in the IP at address 0x2000. \n",
    "\n",
    "From Python, LEDs can be set by writing a 24 bit value RGB value to the WS2812 BRAM (address 0, up to 2047 *4). Each 24 bit LED value is mapped to a 32 bit memory location in the IP.\n",
    "\n",
    "---\n",
    "\n",
    "## Current example\n",
    "This example uses one 16 LED string.\n",
    "https://www.adafruit.com/product/1463\n",
    "\n",
    "Instantiate the ws2812 controller (automatically loads the overlay bitstream)"
   ]
  },
  {
   "cell_type": "code",
   "execution_count": null,
   "metadata": {
    "collapsed": true
   },
   "outputs": [],
   "source": [
    "from ws2812 import ws2812\n",
    "ws2812 = ws2812()"
   ]
  },
  {
   "cell_type": "markdown",
   "metadata": {},
   "source": [
    "## Get the IP address from the IP overlay \n",
    "print *ip* to see the full list of IP in the overlay"
   ]
  },
  {
   "cell_type": "code",
   "execution_count": 69,
   "metadata": {
    "collapsed": false
   },
   "outputs": [],
   "source": [
    "from pynq import Overlay\n",
    "ol = Overlay(ws2812.bitfile)\n",
    "ip = ol.ip_dict\n",
    "address_1 = ip['SEG_ws2812_0_reg0'][0]"
   ]
  },
  {
   "cell_type": "markdown",
   "metadata": {},
   "source": [
    "## Write to the LEDs\n",
    "A simple write_led function is used to write an LED value to the array. Sliders are also used to select the individual LED, and to also select the R, G, B values"
   ]
  },
  {
   "cell_type": "code",
   "execution_count": 67,
   "metadata": {
    "collapsed": false
   },
   "outputs": [
    {
     "name": "stdout",
     "output_type": "stream",
     "text": [
      "Colour: 0x7f7f7f\n"
     ]
    }
   ],
   "source": [
    "import ipywidgets as widgets\n",
    "from ipywidgets import interactive\n",
    "from IPython.display import display\n",
    "from pynq import MMIO\n",
    "\n",
    "NUMBER_LEDS_ADDR = 4096\n",
    "\n",
    "address_1 = int(address_1, 16)\n",
    "a = MMIO(address_1, 0x2000)\n",
    "a.write(NUMBER_LEDS_ADDR, 16)\n",
    "\n",
    "def write_led(pixel, red, blue, green):\n",
    "    a.write(pixel * 4, (green << 16) + (red << 8) + (blue))\n",
    "    print(\"Colour: \" + hex((green << 16) + (red << 8) + (blue)))\n",
    "\n",
    "\n",
    "color_sliders = interactive(write_led, blue=(0, 0xff, 1), red=(0, 0xff, 1), green=(0, 0xff, 1), pixel=(0, 15, 1))\n",
    "\n",
    "display(color_sliders)\n"
   ]
  },
  {
   "cell_type": "markdown",
   "metadata": {},
   "source": [
    "# Appendix\n",
    "## LED BRAM limit\n",
    "Number of LEDS limimted by BRAM size. Z7020 has 140 BRAM. This allows 2x BRAM for each controller (128 used in total).\n",
    "\n",
    "\n",
    "## Pin mappings\n",
    "Pins 0-63 as inndicated are connected to SEG_ws2812_0_reg0 to SEG_ws2812_63_reg0\n",
    "<img = src=\"images/pin_diagram.jpg\">"
   ]
  }
 ],
 "metadata": {
  "kernelspec": {
   "display_name": "Python 3",
   "language": "python",
   "name": "python3"
  },
  "language_info": {
   "codemirror_mode": {
    "name": "ipython",
    "version": 3
   },
   "file_extension": ".py",
   "mimetype": "text/x-python",
   "name": "python",
   "nbconvert_exporter": "python",
   "pygments_lexer": "ipython3",
   "version": "3.4.3+"
  }
 },
 "nbformat": 4,
 "nbformat_minor": 1
}
